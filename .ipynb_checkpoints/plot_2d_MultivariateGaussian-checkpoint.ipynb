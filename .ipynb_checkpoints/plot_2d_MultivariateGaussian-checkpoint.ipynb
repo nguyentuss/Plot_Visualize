{
 "cells": [
  {
   "cell_type": "code",
   "execution_count": 1,
   "metadata": {},
   "outputs": [
    {
     "data": {
      "application/vnd.jupyter.widget-view+json": {
       "model_id": "7821c3aa24fd4a2b95660e8cc7190e5c",
       "version_major": 2,
       "version_minor": 0
      },
      "text/plain": [
       "interactive(children=(FloatSlider(value=0.0, description='Mean X', max=3.0, min=-3.0), FloatSlider(value=0.0, …"
      ]
     },
     "metadata": {},
     "output_type": "display_data"
    }
   ],
   "source": [
    "import numpy as np\n",
    "import matplotlib.pyplot as plt\n",
    "from ipywidgets import interact, FloatSlider\n",
    "\n",
    "\n",
    "def multivariate_gaussian_pdf(x, y, mean, cov):\n",
    "    \"\"\"\n",
    "    Compute the value of the PDF of a 2D Gaussian at points (x, y).\n",
    "    \n",
    "    :param x: Meshgrid array for x-coordinates\n",
    "    :param y: Meshgrid array for y-coordinates\n",
    "    :param mean: [mu_x, mu_y]\n",
    "    :param cov: 2x2 covariance matrix\n",
    "    :return: Values of the PDF at each (x, y)\n",
    "    \"\"\"\n",
    "    # Flatten x, y for vectorized operations\n",
    "    xy = np.column_stack([x.ravel(), y.ravel()])\n",
    "    \n",
    "    # Inverse and determinant of covariance\n",
    "    cov_inv = np.linalg.inv(cov)\n",
    "    cov_det = np.linalg.det(cov)\n",
    "    \n",
    "    # Centered coordinates\n",
    "    xy_centered = xy - mean\n",
    "    \n",
    "    # Mahalanobis distance\n",
    "    mahal = np.sum((xy_centered @ cov_inv) * xy_centered, axis=1)\n",
    "    \n",
    "    # PDF formula for the multivariate Gaussian\n",
    "    pdf = np.exp(-0.5 * mahal) / (2.0 * np.pi * np.sqrt(cov_det))\n",
    "    \n",
    "    return pdf.reshape(x.shape)\n",
    "\n",
    "def plot_gaussian(mu_x=0.0, mu_y=0.0, sigma_x=1.0, sigma_y=1.0, rho=0.0):\n",
    "    \"\"\"\n",
    "    Plot the 2D Multivariate Gaussian PDF using a contour plot.\n",
    "    \n",
    "    :param mu_x: Mean in x-dimension\n",
    "    :param mu_y: Mean in y-dimension\n",
    "    :param sigma_x: Std dev in x-dimension\n",
    "    :param sigma_y: Std dev in y-dimension\n",
    "    :param rho: Correlation coefficient (-1 < rho < 1)\n",
    "    \"\"\"\n",
    "    # Build the mean vector and covariance matrix\n",
    "    mean = np.array([mu_x, mu_y])\n",
    "    cov = np.array([\n",
    "        [sigma_x**2,         rho * sigma_x * sigma_y],\n",
    "        [rho * sigma_x * sigma_y, sigma_y**2        ]\n",
    "    ])\n",
    "    \n",
    "    # Create a meshgrid for plotting\n",
    "    grid_size = 100\n",
    "    x_vals = np.linspace(-5, 5, grid_size)\n",
    "    y_vals = np.linspace(-5, 5, grid_size)\n",
    "    X, Y = np.meshgrid(x_vals, y_vals)\n",
    "    \n",
    "    # Evaluate the PDF on the grid\n",
    "    Z = multivariate_gaussian_pdf(X, Y, mean, cov)\n",
    "    \n",
    "    # Plot\n",
    "    plt.figure(figsize=(6, 5))\n",
    "    contour = plt.contourf(X, Y, Z, levels=30, cmap='viridis')\n",
    "    plt.colorbar(contour, label='PDF Value')\n",
    "    plt.title(\"2D Multivariate Gaussian\")\n",
    "    plt.xlabel(\"X\")\n",
    "    plt.ylabel(\"Y\")\n",
    "    plt.xlim([-5, 5])\n",
    "    plt.ylim([-5, 5])\n",
    "    plt.gca().set_aspect('equal', 'box')\n",
    "    plt.show()\n",
    "\n",
    "# Create an interactive widget with sliders\n",
    "interact(\n",
    "    plot_gaussian,\n",
    "    mu_x=FloatSlider(value=0.0, min=-3.0, max=3.0, step=0.1, description='Mean X'),\n",
    "    mu_y=FloatSlider(value=0.0, min=-3.0, max=3.0, step=0.1, description='Mean Y'),\n",
    "    sigma_x=FloatSlider(value=1.0, min=0.1, max=3.0, step=0.1, description='Sigma X'),\n",
    "    sigma_y=FloatSlider(value=1.0, min=0.1, max=3.0, step=0.1, description='Sigma Y'),\n",
    "    rho=FloatSlider(value=0.0, min=-0.9, max=0.9, step=0.1, description='Correlation')\n",
    ");\n"
   ]
  }
 ],
 "metadata": {
  "kernelspec": {
   "display_name": "AI",
   "language": "python",
   "name": "python3"
  },
  "language_info": {
   "codemirror_mode": {
    "name": "ipython",
    "version": 3
   },
   "file_extension": ".py",
   "mimetype": "text/x-python",
   "name": "python",
   "nbconvert_exporter": "python",
   "pygments_lexer": "ipython3",
   "version": "3.13.1"
  }
 },
 "nbformat": 4,
 "nbformat_minor": 2
}
